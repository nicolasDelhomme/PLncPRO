{
 "cells": [
  {
   "cell_type": "markdown",
   "metadata": {},
   "source": [
    "# Download data\n",
    "Download train and test data from https://drive.google.com/file/d/108S-9Bt4CLCHTaCn6-HKTqQZDo0nssZe/view. Or use the following command on shell."
   ]
  },
  {
   "cell_type": "code",
   "execution_count": 2,
   "metadata": {},
   "outputs": [
    {
     "name": "stdout",
     "output_type": "stream",
     "text": [
      "--2020-01-20 17:59:25--  https://docs.google.com/uc?export=download&confirm=bL4U&id=108S-9Bt4CLCHTaCn6-HKTqQZDo0nssZe\n",
      "Resolving docs.google.com (docs.google.com)... 2607:f8b0:4009:803::200e, 172.217.8.174\n",
      "Connecting to docs.google.com (docs.google.com)|2607:f8b0:4009:803::200e|:443... connected.\n",
      "HTTP request sent, awaiting response... 200 OK\n",
      "Length: unspecified [text/html]\n",
      "Saving to: ‘plncpro_data.zip’\n",
      "\n",
      "plncpro_data.zip        [ <=>                  ]   3.19K  --.-KB/s   in 0s     \n",
      "\n",
      "2020-01-20 17:59:25 (44.5 MB/s) - ‘plncpro_data.zip’ saved [3267]\n",
      "\n"
     ]
    }
   ],
   "source": [
    "!wget --load-cookies /tmp/cookies.txt \"https://docs.google.com/uc?export=download&confirm=$(wget --quiet --save-cookies /tmp/cookies.txt --keep-session-cookies --no-check-certificate 'https://docs.google.com/uc?export=download&id=108S-9Bt4CLCHTaCn6-HKTqQZDo0nssZe' -O- | sed -rn 's/.*confirm=([0-9A-Za-z_]+).*/\\1\\n/p')&id=108S-9Bt4CLCHTaCn6-HKTqQZDo0nssZe\" -O plncpro_data.zip && rm -rf /tmp/cookies.txt"
   ]
  },
  {
   "cell_type": "markdown",
   "metadata": {},
   "source": [
    "# Build blast databse\n",
    "PlncPRO extracts homology based features from blast. Set up a blast database to be used with PlncPRO. We recommend using the SwissProt database. NOTE: To use Diamond instead of blastx see [README](https://github.com/urmi-21/PLncPRO/blob/master/README.md)"
   ]
  },
  {
   "cell_type": "code",
   "execution_count": null,
   "metadata": {},
   "outputs": [],
   "source": [
    "\"\"\"Run these commands in shell. This will create a blast database.\"\"\"\n",
    "!wget ftp://ftp.uniprot.org/pub/databases/uniprot/current_release/knowledgebase/complete/uniprot_sprot.fasta.gz\n",
    "!gunzip uniprot_sprot.fasta.gz\n",
    "!makeblastdb -in uniprot_sprot.fasta -input_type fasta -dbtype prot -title uniprotdb -out uniprot/uniprotdb"
   ]
  },
  {
   "cell_type": "markdown",
   "metadata": {},
   "source": [
    "# Building model\n",
    "PlncPRO requires labelled training data to build models. `plncpro build` command build the model."
   ]
  },
  {
   "cell_type": "code",
   "execution_count": null,
   "metadata": {},
   "outputs": [],
   "source": [
    "!plncpro build -p plncpro_data/plant_new_fasta/monocot/train/monocot_pct_train.fa -n plncpro_data/plant_new_fasta/monocot/train/monocot_lnct_train.fa -o monocot_model -m monocot.model -d uniprot/uniprotdb -t 26"
   ]
  },
  {
   "cell_type": "markdown",
   "metadata": {},
   "source": [
    "# Testing built model\n",
    "Using a test data we can evaluate a model's performance. This test data is never seen by the model before."
   ]
  },
  {
   "cell_type": "code",
   "execution_count": null,
   "metadata": {},
   "outputs": [],
   "source": [
    "!plncpro predict -i plncpro_data/plant_new_fasta/os/test/os_test.fa -o os_test_out -p osativa_predictions -t 25 -d uniprot/uniprotdb -m monocot_model/monocot.model -v -r"
   ]
  }
 ],
 "metadata": {
  "kernelspec": {
   "display_name": "Python 3",
   "language": "python",
   "name": "python3"
  },
  "language_info": {
   "codemirror_mode": {
    "name": "ipython",
    "version": 3
   },
   "file_extension": ".py",
   "mimetype": "text/x-python",
   "name": "python",
   "nbconvert_exporter": "python",
   "pygments_lexer": "ipython3",
   "version": "3.7.5"
  }
 },
 "nbformat": 4,
 "nbformat_minor": 2
}
